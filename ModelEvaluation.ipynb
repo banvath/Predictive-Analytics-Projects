{
 "cells": [
  {
   "cell_type": "markdown",
   "metadata": {},
   "source": [
    "# Model Evaluation and Hyperparameter Tuning"
   ]
  },
  {
   "cell_type": "markdown",
   "metadata": {},
   "source": [
    "# Debugging algorithms with learning and fitting curves"
   ]
  },
  {
   "cell_type": "markdown",
   "metadata": {},
   "source": [
    "We have learnt two simple yet powerful diagnostic tools that can help us to imporove the performance of a learning algorithm: learning curves and fitting curves. We will discuss how we can use learning curves to diagnose if a learning algorithm has a problem with overfitting or underifitting. Furthermore, we will take a look at fitting curves that help us address the common issues of a learning algorithm."
   ]
  },
  {
   "cell_type": "markdown",
   "metadata": {},
   "source": [
    "# Diagnosing problems with learning curves"
   ]
  },
  {
   "cell_type": "markdown",
   "metadata": {},
   "source": [
    "If a model is too complex for a given training set the model tends to overfit the training data and does not generalize well to unseen data. **Common ways to address this problem** is to collect more training samples to reduce the degree of overfitting. However, in practice it can be more expensive or not feasible to collect more data. By plotting the model training and testing accuracies, we can detect whether the model suffers from underfitting or overfitting, and whether the colleciton of more data would help to address this problem."
   ]
  },
  {
   "cell_type": "markdown",
   "metadata": {},
   "source": [
    "## Underfitting"
   ]
  },
  {
   "cell_type": "markdown",
   "metadata": {},
   "source": [
    "When the learning curve graph shows both low traning and testing/cross-validation accuracy, this indicates that the model underfits the training data. **Common ways to address this problem** is to \n",
    "**(1)** increase the number of parameters of the model, for example, by collecting or constructing additional features (e.g., interaction terms, second order polynomial terms, third order polynomial terms, etc), or \n",
    "**(2)** decrease the degree of regularization in parametric models( e.g., logistic regression classifiers) if regularization was performed."
   ]
  },
  {
   "cell_type": "markdown",
   "metadata": {},
   "source": [
    "## Overfitting"
   ]
  },
  {
   "cell_type": "markdown",
   "metadata": {},
   "source": [
    "When the learning curve graph shows a large gap between the traning and testing/cross-validation accuracy, this indicates that the model overfits the training data. Common ways to address this problem is to **(1)** collect more trainig data or **(2)** to reduce the complexity of the model, for example, by increasing the regularization paramater; for unregularized models it can also help to **(3)** decrease the number of features via feature selection or feature extraction (i.e., dimensionality reduction). Note that collecting more training data decreases the chances of overfitting. However, it might not always help, for example, when the training data is extremely noisy or the model is already very close to optimal."
   ]
  },
  {
   "cell_type": "code",
   "execution_count": 1,
   "metadata": {},
   "outputs": [],
   "source": [
    "############################## Python version compatibility ##############################\n",
    "\n",
    "# To write a Python 2/3 compatible codebase, the first step is to add this line to the top of each module\n",
    "from __future__ import division, print_function, unicode_literals\n",
    "\n",
    "############################## Import Libraries & Modules ################################\n",
    "\n",
    "%matplotlib inline\n",
    "# Import necessary libraries and specify that graphs should be plotted inline. \n",
    "from sklearn.datasets import load_iris # Import Iris Data Set\n",
    "from sklearn import linear_model       # The sklearn.linear_model module implements generalized linear models\n",
    "import numpy as np                     # NumPy is the package for scientific computing with Python\n",
    "\n",
    "#################################### Import Dataset #####################################\n",
    "\n",
    "# Load the Iris data set\n",
    "# See 'ISOM 672_Decision Trees' for a description of this data set\n",
    "iris = load_iris()\n",
    "X = iris.data[:, [2, 3]] # Specify attributes/predictors\n",
    "y = iris.target          # Specify target variable\n",
    "\n",
    "############################## Function for Learning Curves ##############################\n",
    "\n",
    "def plot_learning_curve(estimator, title, X, y, ylim=None, cv=None,\n",
    "                        n_jobs=1, train_sizes=np.linspace(.1, 1.0, 5)):\n",
    "    \"\"\"\n",
    "    Generate a simple plot of the test and training learning curve.\n",
    "\n",
    "    Parameters\n",
    "    ----------\n",
    "    estimator : object type that implements the \"fit\" and \"predict\" methods\n",
    "        An object of that type which is cloned for each validation.\n",
    "\n",
    "    title : string\n",
    "        Title for the chart.\n",
    "\n",
    "    X : array-like, shape (n_samples, n_features)\n",
    "        Training vector, where n_samples is the number of samples and\n",
    "        n_features is the number of features.\n",
    "\n",
    "    y : array-like, shape (n_samples) or (n_samples, n_features), optional\n",
    "        Target relative to X for classification or regression;\n",
    "        None for unsupervised learning.\n",
    "\n",
    "    ylim : tuple, shape (ymin, ymax), optional\n",
    "        Defines minimum and maximum yvalues plotted.\n",
    "\n",
    "    cv : int, cross-validation generator or an iterable, optional\n",
    "        Determines the cross-validation splitting strategy.\n",
    "        Possible inputs for cv are:\n",
    "          - None, to use the default 3-fold cross-validation,\n",
    "          - integer, to specify the number of folds.\n",
    "          - An object to be used as a cross-validation generator.\n",
    "          - An iterable yielding train/test splits.\n",
    "\n",
    "        For integer/None inputs, if ``y`` is binary or multiclass,\n",
    "        :class:`StratifiedKFold` used. If the estimator is not a classifier\n",
    "        or if ``y`` is neither binary nor multiclass, :class:`KFold` is used.\n",
    "\n",
    "        Refer :ref:`User Guide <cross_validation>` for the various\n",
    "        cross-validators that can be used here.\n",
    "\n",
    "    n_jobs : integer, optional\n",
    "        Number of jobs to run in parallel (default 1).\n",
    "    \"\"\"\n",
    "    plt.figure()                    #display figure\n",
    "    plt.title(title)\n",
    "    if ylim is not None:\n",
    "        plt.ylim(*ylim)\n",
    "    plt.xlabel(\"Training examples\") #y label title\n",
    "    plt.ylabel(\"Score\")             #x label title\n",
    "    \n",
    "    # Class learning_curve determines cross-validated training and test scores for different training set sizes\n",
    "    train_sizes, train_scores, test_scores = learning_curve(\n",
    "        estimator, X, y, cv=cv, n_jobs=n_jobs, train_sizes=train_sizes)\n",
    "    \n",
    "    # Cross validation statistics for training and testing data (mean and standard deviation)\n",
    "    train_scores_mean = np.mean(train_scores, axis=1) # Compute the arithmetic mean along the specified axis.\n",
    "    train_scores_std = np.std(train_scores, axis=1)   # Compute the standard deviation along the specified axis.\n",
    "    test_scores_mean = np.mean(test_scores, axis=1)   # Compute the arithmetic mean along the specified axis.\n",
    "    test_scores_std = np.std(test_scores, axis=1)     # Compute the standard deviation along the specified axis.\n",
    "\n",
    "    plt.grid() # Configure the grid lines\n",
    "\n",
    "    # Fill the area around the line to indicate the size of standard deviations for the training data\n",
    "    # and the test data\n",
    "    plt.fill_between(train_sizes, train_scores_mean - train_scores_std,\n",
    "                     train_scores_mean + train_scores_std, alpha=0.1,\n",
    "                     color=\"r\") # train data performance indicated with red\n",
    "    plt.fill_between(train_sizes, test_scores_mean - test_scores_std,\n",
    "                     test_scores_mean + test_scores_std, alpha=0.1, color=\"g\") # test data performance indicated with green\n",
    "    \n",
    "    # Cross-validation means indicated by dots\n",
    "    # Train data performance indicated with red\n",
    "    plt.plot(train_sizes, train_scores_mean, 'o-', color=\"r\",\n",
    "             label=\"Training score\")\n",
    "    # Test data performance indicated with green\n",
    "    plt.plot(train_sizes, test_scores_mean, 'o-', color=\"g\",\n",
    "             label=\"Cross-validation score\")\n",
    "\n",
    "    plt.legend(loc=\"best\") # Show legend of the plot at the best location possible\n",
    "    return plt             # Function that returns the plot as an output"
   ]
  },
  {
   "cell_type": "code",
   "execution_count": 5,
   "metadata": {},
   "outputs": [
    {
     "data": {
      "image/png": "[encoded data removed]",
      "text/plain": [
       "<matplotlib.figure.Figure at 0x10f8a1ad0>"
      ]
     },
     "metadata": {
      "needs_background": "light"
     },
     "output_type": "display_data"
    },
    {
     "data": {
      "image/png": "[encoded data removed]",
      "text/plain": [
       "<matplotlib.figure.Figure at 0x10f8a1410>"
      ]
     },
     "metadata": {
      "needs_background": "light"
     },
     "output_type": "display_data"
    }
   ],
   "source": [
    "########################### Visualization of Learning Curves ###########################\n",
    "\n",
    "# Determines cross-validated training and test scores for different training set sizes\n",
    "from sklearn.model_selection import learning_curve \n",
    "# Random permutation cross-validator\n",
    "from sklearn.model_selection import ShuffleSplit\n",
    "# Logistic regression classifier class\n",
    "from sklearn.linear_model import LogisticRegression\n",
    "# kNN classifier class\n",
    "from sklearn import neighbors\n",
    "# Each pyplot function makes some change to a figure: e.g., creates a figure, creates a plotting area in a figure, \n",
    "# plots some lines in a plotting area, decorates the plot with labels, etc\n",
    "import matplotlib.pyplot as plt\n",
    "\n",
    "\n",
    "title = \"Learning Curve (Logistic Regression)\"\n",
    "\n",
    "# Class ShuffleSplit is a random permutation cross-validator\n",
    "# Parameter n_splits = Number of re-shuffling & splitting iterations\n",
    "# Parameter test_size = represents the proportion of the dataset to include in the test split (float between 0.0 and 1.0) \n",
    "# Parameter random_state = the seed used by the random number generator\n",
    "cv = ShuffleSplit(n_splits=10, test_size=0.3, random_state=42)\n",
    "estimator = LogisticRegression() # Build multiple LRs as we increase the size of the traning data\n",
    "# Plots the learning curve based on the previously defined function for the logistic regression estimator\n",
    "plot_learning_curve(estimator, title, X, y, (0.8, 1.01), cv=cv, n_jobs=4)\n",
    "\n",
    "plt.show() # Display the figure\n",
    "\n",
    "title = \"Learning Curve (kNN)\"\n",
    "\n",
    "# Plots the learning curve based on the previously defined function for the kNN classifier. Uses the \n",
    "# random permutation cross-validator\n",
    "cv = ShuffleSplit(n_splits=10, test_size=0.3, random_state=42)\n",
    "estimator = neighbors.KNeighborsClassifier() #n_neighbors=5 by default\n",
    "plot_learning_curve(estimator, title, X, y, (0.8, 1.01), cv=cv, n_jobs=4)\n",
    "\n",
    "plt.show() # Display the figure"
   ]
  },
  {
   "cell_type": "markdown",
   "metadata": {},
   "source": [
    "Via the *train_sizes* parameter in the *learning_curve* function, we can control the partial or relative number of training samples that are used to generate the learning curves. Here, we set *train_sizes* = np.linspace(0.1, 1.0 , 5) to use 5 evenly spaced relative intervals for the training set sizes. By default, the *learning_curve* function uses stratified k-fold cross-validation to calculate cross-validation accuracy, and we set *k=10* via the *cv* paramaeter. Then, we simply calculate the average accuracies from the returned cross-validated training and test scores for the diffferent sizes of the training set, which we plott using matplootlib's plot function. Furthermore, we add this standard deviation of the average accuracies to the plot using the *fill_between* function to indicate the variance of the estimate."
   ]
  },
  {
   "cell_type": "markdown",
   "metadata": {},
   "source": [
    "# Addressing overfitting and underfitting with fitting graphs"
   ]
  },
  {
   "cell_type": "markdown",
   "metadata": {},
   "source": [
    "Fitting graphs are another usesful tool for impoving the performance of the model by addressing issues such as overfitting and underfitting. Fitting graphs are related to learning curves, but instead of plotting the training and test accuracies as functions of the sample size, we can vary the values of the model parameters, for example the inverse regularization paramater $C$ in logistic regression."
   ]
  },
  {
   "cell_type": "code",
   "execution_count": 7,
   "metadata": {},
   "outputs": [
    {
     "name": "stdout",
     "output_type": "stream",
     "text": [
      "['B' 'M']\n",
      "Accuracy: 0.95 (+/- 0.02)\n",
      "[ 0.94782609  0.94782609  0.96460177  0.9380531   0.96460177]\n",
      "F1-score: 0.95 (+/- 0.05)\n",
      "[ 0.96338384  0.90569106  0.92105263  0.96230159  0.94286669  0.98095556\n",
      "  0.92460317  0.94337715  0.98112572  0.96190476]\n"
     ]
    }
   ],
   "source": [
    "############################## Import Libraries & Modules ################################\n",
    "\n",
    "# Logistic regression classifier class\n",
    "from sklearn.linear_model import LogisticRegression\n",
    "# pandas is a library providing high-performance, easy-to-use data structures and data \n",
    "# analysis tools for the Python programming language\n",
    "import pandas as pd \n",
    "# Evaluate a score by cross-validation\n",
    "from sklearn.model_selection import cross_val_score\n",
    "# Encode labels with value between 0 and n_classes-1\n",
    "from sklearn.preprocessing import LabelEncoder\n",
    "from sklearn.model_selection import train_test_split\n",
    "\n",
    "#################################### Import Dataset #####################################\n",
    "\n",
    "df = pd.read_csv('https://archive.ics.uci.edu/ml/'\n",
    "                 'machine-learning-databases'\n",
    "                 '/breast-cancer-wisconsin/wdbc.data', header=None) # Read data from link, No Header\n",
    "\n",
    "X = df.loc[:, 2:].values # Specify attributes/predictors\n",
    "y = df.loc[:, 1].values  # Specify target variable\n",
    "le = LabelEncoder()\n",
    "#print(y)               #See label before transformation\n",
    "y = le.fit_transform(y) #Labels 'M' as 1 and 'B' as 0\n",
    "#print(y)               #See label after transformation\n",
    "print(le.classes_)      #Show the classes that have been encoded\n",
    "\n",
    "###################################### Classifier ######################################\n",
    "\n",
    "#X_train, X_test, y_train, y_test = train_test_split(X, y, test_size=0.20, random_state=1)\n",
    "    \n",
    "# Class for Logistic Regression (aka logit) classifier.\n",
    "# Parameter C: Inverse of regularization strength; \n",
    "# C must be a positive float; smaller values specify stronger regularization.\n",
    "clf_lr = linear_model.LogisticRegression(C=1e4) # default: ‘l2’ norm\n",
    "\n",
    "############################ Performance w/ Cross Validation ############################\n",
    "\n",
    "# Evaluate performance\n",
    "# Read more about cross_val_score in the following link \n",
    "# http://scikit-learn.org/stable/modules/generated/sklearn.model_selection.cross_val_score.html#sklearn.model_selection.cross_val_score\n",
    "# Possible 'scoring' values http://scikit-learn.org/stable/modules/model_evaluation.html\n",
    "scores=cross_val_score(clf_lr, X=X, y=y, cv=5)\n",
    "print(\"Accuracy: %0.2f (+/- %0.2f)\" % (scores.mean(), scores.std() * 2))\n",
    "print(scores) # print accuracy for each iteration of cross-validation\n",
    "\n",
    "scores_f1=cross_val_score(clf_lr, X=X, y=y, cv=10, scoring='f1_macro')\n",
    "print(\"F1-score: %0.2f (+/- %0.2f)\" % (scores_f1.mean(), scores_f1.std() * 2))# returns an array of scores of the estimator for each run of the cross validation.\n",
    "print(scores_f1) # print f1-score for each iteration of cross-validation"
   ]
  },
  {
   "cell_type": "code",
   "execution_count": 14,
   "metadata": {},
   "outputs": [
    {
     "data": {
      "image/png": "[encoded data removed]",
      "text/plain": [
       "<matplotlib.figure.Figure at 0x11f9b3710>"
      ]
     },
     "metadata": {
      "needs_background": "light"
     },
     "output_type": "display_data"
    }
   ],
   "source": [
    "############################### Import Libraries & Modules #################################\n",
    "\n",
    "# Fitting curve (aka validation curve)\n",
    "# Determine training and test scores for varying parameter values.\n",
    "from sklearn.model_selection import validation_curve\n",
    "# Split validation\n",
    "from sklearn.model_selection import train_test_split\n",
    "# Class for Logistic Regression classifier\n",
    "from sklearn.linear_model import LogisticRegression \n",
    "\n",
    "np.random.seed(42) #the seed used by the random number generator for np\n",
    "\n",
    "############################# Parameters - Varying Complexity #############################\n",
    "\n",
    "# Specify possible parameter values for C.\n",
    "# Parameter C: Inverse of regularization strength; \n",
    "# C must be a positive float; smaller values specify stronger regularization.\n",
    "param_range = [0.00001, 0.0001, 0.001, 0.01, 0.1 ,1 ,10 ,100, 1000, 10000, 100000, 1000000, 10000000, 100000000, 1000000000]\n",
    "\n",
    "# Compute scores for an estimator with different values of a specified parameter. \n",
    "# This is similar to grid search with one parameter. \n",
    "# However, this will also compute training scores and is merely a utility for plotting the results.\n",
    "\n",
    "########################## Estimate Scores - Varying Complexity ##########################\n",
    "\n",
    "# Determine training and test scores for varying parameter values.\n",
    "train_scores, test_scores = validation_curve( \n",
    "                estimator=LogisticRegression(random_state=0), #Build Logistic Regression Models\n",
    "                X=X_train, \n",
    "                y=y_train, \n",
    "                param_name=\"C\", # parameter C: Inverse of regularization strength; must be a positive float. Smaller values of paramter C specify stronger regularization.\n",
    "                param_range=param_range,\n",
    "                cv=10,     #10-fold cross-validation\n",
    "                scoring=\"accuracy\", \n",
    "                n_jobs=4) # Number of CPU cores used when parallelizing over classes if multi_class=’ovr’”. This parameter is ignored when the ``solver``is set to ‘liblinear’ regardless of whether ‘multi_class’ is specified or not. If given a value of -1, all cores are used.\n",
    "\n",
    "\n",
    "# Cross validation statistics for training and testing data (mean and standard deviation)\n",
    "train_mean = np.mean(train_scores, axis=1) # Compute the arithmetic mean along the specified axis.\n",
    "train_std = np.std(train_scores, axis=1)   # Compute the standard deviation along the specified axis.\n",
    "test_mean = np.mean(test_scores, axis=1)\n",
    "test_std = np.std(test_scores, axis=1)\n",
    "\n",
    "############################## Visualization - Fitting Graph ##############################\n",
    "\n",
    "# Plot train accuracy means of cross-validation for all the parameters C in param_range\n",
    "plt.plot(param_range, train_mean, \n",
    "         color='blue', marker='o', \n",
    "         markersize=5, label='training accuracy')\n",
    "\n",
    "# Fill the area around the line to indicate the size of standard deviations of performance for the training data\n",
    "plt.fill_between(param_range, train_mean + train_std,\n",
    "                 train_mean - train_std, alpha=0.15,\n",
    "                 color='blue')\n",
    "\n",
    "# Plot test accuracy means of cross-validation for all the parameters C in param_range\n",
    "plt.plot(param_range, test_mean, \n",
    "         color='green', linestyle='--', \n",
    "         marker='s', markersize=5, \n",
    "         label='validation accuracy')\n",
    "\n",
    "# Fill the area around the line to indicate the size of standard deviations of performance for the test data\n",
    "plt.fill_between(param_range, \n",
    "                 test_mean + test_std,\n",
    "                 test_mean - test_std, \n",
    "                 alpha=0.15, color='green')\n",
    "\n",
    "# Grid and Axes Titles\n",
    "plt.grid()\n",
    "plt.xscale('log')\n",
    "plt.legend(loc='lower right')\n",
    "plt.xlabel('Parameter C')\n",
    "plt.ylabel('Accuracy')\n",
    "plt.ylim([0.9, 1.0]) # y limits in the plot\n",
    "plt.tight_layout()\n",
    "# plt.savefig('Fitting_graph_LR.png', dpi=300)\n",
    "plt.show()           # Display the figure\n",
    "\n"
   ]
  },
  {
   "cell_type": "markdown",
   "metadata": {},
   "source": [
    "Similar to the *learning_curve* function, the *validation_curve* function (i.e., the function that plots the fitting graphs) uses the stratified k-fold cross-validation by default to estimate the performance of the model if we are using algorithms for the classification. Inside the *validation_curve* function, we specified the parameter that we wanted to evaluate. In this case, it is $C$, the inverse regularization parameter of the *LogisticRegression* classifier to assess the *LogisticRegression* object for a specific value range that we set via the param_range parameter. Similar to the learning curve example in the previous section, we plotted the average training and cross-validation accuracies and the corresponding standard deviations. \n",
    "\n",
    "\n",
    "Although the differences in the accuracy for varying values of $C$ are subtle, **we can see that the model slightly underfits the data when we increase the regularization strength (small values of $C$)**. However, for large values of $C$, it means lowering the strength of regularization, so the model tends to **slightly overfit the data**. In this case, the sweet spot appears to be around $C=1000$."
   ]
  },
  {
   "cell_type": "markdown",
   "metadata": {},
   "source": [
    "# Fine-tuning machine learning models via grid search"
   ]
  },
  {
   "cell_type": "markdown",
   "metadata": {},
   "source": [
    "In machine learning, we have two types of paramaters: **(1)** those learned from the training data, for example, the weights in logistic regression, and **(2)** the parameters of a learning algorithm that are optimized separately. The latter are the tunning parameters, also called hyperparameters, of a model, for example, the **regularization** parameter in logistic regression or the **depth** of a decision tree.\n",
    "\n",
    "In the previous section, we used validation curves to improve the performance of a model by tuning one of its hyperparameters. In this section, we will take a look at a powerful hyperparameter optimization technique called grid search that can further help to improve the performance of a model by finding the ** *optimal* combination of hyperparameter values**."
   ]
  },
  {
   "cell_type": "markdown",
   "metadata": {},
   "source": [
    "## Tuning parameters via grid search and nested cross-validation"
   ]
  },
  {
   "cell_type": "markdown",
   "metadata": {},
   "source": [
    "The approach of grid search is quite simple, it is a brute-force exchuastive search pradigm where we specify a list of values for different hyperparameters, and the computer evaluates the model performance for each combination of those to obtain the optimal set."
   ]
  },
  {
   "cell_type": "code",
   "execution_count": 26,
   "metadata": {},
   "outputs": [
    {
     "name": "stdout",
     "output_type": "stream",
     "text": [
      " Parameter Tuning #1\n",
      "Non-nested CV Accuracy:  0.947275922671\n",
      "Optimal Parameter:  {u'max_depth': 4}\n",
      "Optimal Estimator:  DecisionTreeClassifier(class_weight=None, criterion='gini', max_depth=4,\n",
      "            max_features=None, max_leaf_nodes=None,\n",
      "            min_impurity_split=1e-07, min_samples_leaf=1,\n",
      "            min_samples_split=2, min_weight_fraction_leaf=0.0,\n",
      "            presort=False, random_state=0, splitter='best')\n",
      "Nested CV Accuracy:  0.926098431921  +/-  0.0273481397974\n",
      "\n",
      " Parameter Tuning #2\n",
      "Non-nested CV Accuracy:  0.940246045694\n",
      "Optimal Parameter:  {u'criterion': u'gini', u'max_depth': 5}\n",
      "Optimal Estimator:  DecisionTreeClassifier(class_weight=None, criterion=u'gini', max_depth=5,\n",
      "            max_features=None, max_leaf_nodes=None,\n",
      "            min_impurity_split=1e-07, min_samples_leaf=1,\n",
      "            min_samples_split=2, min_weight_fraction_leaf=0.0,\n",
      "            presort=False, random_state=0, splitter='best')\n",
      "Nested CV Accuracy:  0.931408166434  +/-  0.0233506694962\n",
      "\n",
      " Parameter Tuning #3\n",
      "Non-nested CV Accuracy:  0.940246045694\n",
      "Optimal Parameter:  {u'min_samples_split': 2, u'criterion': u'entropy', u'max_depth': 3, u'min_samples_leaf': 4}\n",
      "Optimal Estimator:  DecisionTreeClassifier(class_weight=None, criterion=u'entropy', max_depth=3,\n",
      "            max_features=None, max_leaf_nodes=None,\n",
      "            min_impurity_split=1e-07, min_samples_leaf=4,\n",
      "            min_samples_split=2, min_weight_fraction_leaf=0.0,\n",
      "            presort=False, random_state=0, splitter='best')\n",
      "Nested CV Accuracy:  0.934963514982  +/-  0.0204929123404\n",
      "\n",
      " Parameter Tuning #4\n",
      "Non-nested CV Accuracy:  0.957820738137\n",
      "Optimal Parameter:  {u'C': 1000}\n",
      "Optimal Estimator:  LogisticRegression(C=1000, class_weight=None, dual=False, fit_intercept=True,\n",
      "          intercept_scaling=1, max_iter=100, multi_class='ovr', n_jobs=1,\n",
      "          penalty='l2', random_state=0, solver='liblinear', tol=0.0001,\n",
      "          verbose=0, warm_start=False)\n",
      "Nested CV Accuracy: 0.954277286136  +/-  0.0218511144615\n",
      "\n",
      " Parameter Tuning #5\n",
      "Non-nested CV Accuracy:  0.968365553603\n",
      "Optimal Parameter:  {u'penalty': u'l2', u'C': 100000}\n",
      "Optimal Estimator:  LogisticRegression(C=100000, class_weight=None, dual=False,\n",
      "          fit_intercept=True, intercept_scaling=1, max_iter=100,\n",
      "          multi_class='ovr', n_jobs=1, penalty=u'l2', random_state=0,\n",
      "          solver='liblinear', tol=0.0001, verbose=0, warm_start=False)\n",
      "Nested CV Accuracy: 0.954339388294  +/-  0.0250219201243\n",
      "\n",
      " Parameter Tuning #6\n",
      "Non-nested CV Accuracy:  0.933216168717\n",
      "Optimal Parameter:  {u'n_neighbors': 9}\n",
      "Optimal Estimator:  KNeighborsClassifier(algorithm='auto', leaf_size=30, metric=u'minkowski',\n",
      "           metric_params=None, n_jobs=1, n_neighbors=9, p=2,\n",
      "           weights='uniform')\n",
      "Nested CV Accuracy:  0.922651762149  +/-  0.0188213215415\n",
      "\n",
      " Parameter Tuning #7\n",
      "Non-nested CV Accuracy:  0.93848857645\n",
      "Optimal Parameter:  {u'n_neighbors': 7, u'weights': u'distance'}\n",
      "Optimal Estimator:  KNeighborsClassifier(algorithm='auto', leaf_size=30, metric=u'minkowski',\n",
      "           metric_params=None, n_jobs=1, n_neighbors=7, p=2,\n",
      "           weights=u'distance')\n",
      "Nested CV Accuracy:  0.927899394504  +/-  0.014334908116\n"
     ]
    }
   ],
   "source": [
    "############################### Import Libraries & Modules #################################\n",
    "\n",
    "from sklearn.tree import DecisionTreeClassifier # A decision tree classifier\n",
    "# GridSearchCV performs an exhaustive search over specified parameter values for an estimator\n",
    "# The parameters of the estimator used to apply these methods are optimized by cross-validated \n",
    "# grid-search over a parameter grid.\n",
    "from sklearn.model_selection import GridSearchCV, KFold, cross_val_score #http://scikit-learn.org/stable/modules/generated/sklearn.model_selection.GridSearchCV.html\n",
    "from sklearn.linear_model import LogisticRegression \n",
    "from sklearn import neighbors, datasets\n",
    "# Standardize features by removing the mean and scaling to unit variance\n",
    "from sklearn.preprocessing import StandardScaler\n",
    "\n",
    "np.random.seed(42) # Ensure reproducability\n",
    "\n",
    "################################# Nested Cross-Validation #################################\n",
    "\n",
    "##################################### Parameter Tuning ####################################\n",
    "\n",
    "# Exhaustive search over specified parameter values for an estimator.\n",
    "# GridSearchCV implements a “fit” and a “score” method. \n",
    "# It also implements “predict”, “predict_proba”, “decision_function”, “transform” and “inverse_transform” \n",
    "# if they are implemented in the estimator used.\n",
    "\n",
    "# The parameters of the estimator used to apply these methods are optimized by cross-validated \n",
    "# grid-search over a parameter grid.\n",
    "\n",
    "inner_cv = KFold(n_splits=5, shuffle=True)\n",
    "outer_cv = KFold(n_splits=5, shuffle=True)\n",
    "    \n",
    "############################## Decision Tree Parameter Tuning ##############################\n",
    "\n",
    "# Choosing optimal depth of the tree\n",
    "gs = GridSearchCV(estimator=DecisionTreeClassifier(random_state=0),\n",
    "                  param_grid=[{'max_depth': [1, 2, 3, 4, 5, 6, 7, None]}],\n",
    "                  scoring='accuracy', # Specifying multiple metrics for evaluation\n",
    "                  cv=inner_cv)\n",
    "\n",
    "gs = gs.fit(X,y)\n",
    "print(\" Parameter Tuning #1\")\n",
    "print(\"Non-nested CV Accuracy: \", gs.best_score_)\n",
    "print(\"Optimal Parameter: \", gs.best_params_)    # Parameter setting that gave the best results on the hold out data.\n",
    "print(\"Optimal Estimator: \", gs.best_estimator_) # Estimator that was chosen by the search, i.e. estimator which gave highest score\n",
    "nested_score_gs = cross_val_score(gs, X=X, y=y, cv=outer_cv)\n",
    "print(\"Nested CV Accuracy: \",nested_score_gs.mean(), \" +/- \", nested_score_gs.std())\n",
    "\n",
    "# See all the parameters you can optimize here http://scikit-learn.org/stable/modules/generated/sklearn.tree.DecisionTreeClassifier.html\n",
    "# Choosing optimal depth of the tree AND optimal splitting criterion\n",
    "gs_dt = GridSearchCV(estimator=DecisionTreeClassifier(random_state=0),\n",
    "                  param_grid=[{'max_depth': [1, 2, 3, 4, 5, 6, 7, None], 'criterion':['gini','entropy']}],\n",
    "                  scoring='accuracy',\n",
    "                  cv=inner_cv)\n",
    "\n",
    "gs_dt = gs_dt.fit(X,y)\n",
    "print(\"\\n Parameter Tuning #2\")\n",
    "print(\"Non-nested CV Accuracy: \", gs_dt.best_score_)\n",
    "print(\"Optimal Parameter: \", gs_dt.best_params_)\n",
    "print(\"Optimal Estimator: \", gs_dt.best_estimator_)\n",
    "nested_score_gs_dt = cross_val_score(gs_dt, X=X, y=y, cv=outer_cv)\n",
    "print(\"Nested CV Accuracy: \",nested_score_gs_dt.mean(), \" +/- \", nested_score_gs_dt.std())\n",
    "\n",
    "# Choosing depth of the tree AND splitting criterion AND min_samples_leaf AND min_samples_split\n",
    "gs_dt2 = GridSearchCV(estimator=DecisionTreeClassifier(random_state=0),\n",
    "                  param_grid=[{'max_depth': [1, 2, 3, 4, 5, 6, 7, None], 'criterion':['gini','entropy'], \n",
    "                              'min_samples_leaf':[1,2,3,4,5],\n",
    "                              'min_samples_split':[2,3,4,5]}],\n",
    "                  scoring='accuracy',\n",
    "                  cv=inner_cv,\n",
    "                  n_jobs=4)\n",
    "\n",
    "gs_dt2 = gs_dt2.fit(X,y)\n",
    "print(\"\\n Parameter Tuning #3\")\n",
    "print(\"Non-nested CV Accuracy: \", gs_dt2.best_score_)\n",
    "print(\"Optimal Parameter: \", gs_dt2.best_params_)\n",
    "print(\"Optimal Estimator: \", gs_dt2.best_estimator_)\n",
    "nested_score_gs_dt2 = cross_val_score(gs_dt2, X=X, y=y, cv=outer_cv)\n",
    "print(\"Nested CV Accuracy: \",nested_score_gs_dt2.mean(), \" +/- \", nested_score_gs_dt2.std())\n",
    "\n",
    "############################ Logistic Regression Parameter Tuning ############################\n",
    "\n",
    "# Choosing C parameter (i.e., regularization parameter) for Logistic Regression\n",
    "gs_lr = GridSearchCV(estimator=LogisticRegression(random_state=0),\n",
    "                  param_grid=[{'C': [ 0.00001, 0.0001, 0.001, 0.01, 0.1 ,1 ,10 ,100, 1000, 10000, 100000, 1000000]}],\n",
    "                  scoring='accuracy',\n",
    "                  cv=inner_cv)\n",
    "\n",
    "gs_lr = gs_lr.fit(X,y)\n",
    "print(\"\\n Parameter Tuning #4\")\n",
    "print(\"Non-nested CV Accuracy: \", gs_lr.best_score_)\n",
    "print(\"Optimal Parameter: \", gs_lr.best_params_)\n",
    "print(\"Optimal Estimator: \", gs_lr.best_estimator_)\n",
    "nested_score_gs_lr = cross_val_score(gs_lr, X=X, y=y, cv=outer_cv)\n",
    "print(\"Nested CV Accuracy:\",nested_score_gs_lr.mean(), \" +/- \", nested_score_gs_lr.std())\n",
    "      \n",
    "# Choosing C parameter for Logistic Regression AND type of penalty (ie., l1 vs l2)\n",
    "# See other parameters here http://scikit-learn.org/stable/modules/generated/sklearn.linear_model.LogisticRegression.html\n",
    "gs_lr2 = GridSearchCV(estimator=LogisticRegression(random_state=0),\n",
    "                  param_grid=[{'C': [ 0.00001, 0.0001, 0.001, 0.01, 0.1 ,1 ,10 ,100, 1000, 10000, 100000, 1000000, 10000000],\n",
    "                             'penalty':['l1','l2']}],\n",
    "                  scoring='accuracy',\n",
    "                  cv=inner_cv)\n",
    "\n",
    "gs_lr2 = gs_lr2.fit(X,y)\n",
    "print(\"\\n Parameter Tuning #5\")\n",
    "print(\"Non-nested CV Accuracy: \", gs_lr2.best_score_)\n",
    "print(\"Optimal Parameter: \", gs_lr2.best_params_)\n",
    "print(\"Optimal Estimator: \", gs_lr2.best_estimator_)\n",
    "nested_score_gs_lr2 = cross_val_score(gs_lr2, X=X, y=y, cv=outer_cv)\n",
    "print(\"Nested CV Accuracy:\",nested_score_gs_lr2.mean(), \" +/- \", nested_score_gs_lr2.std())\n",
    " \n",
    "################################### kNN Parameter Tuning ###################################\n",
    "\n",
    "#Normalize Data\n",
    "sc = StandardScaler()\n",
    "sc.fit(X_train)\n",
    "X_train_std = sc.transform(X_train)\n",
    "X_test_std = sc.transform(X_test)\n",
    "\n",
    "# Choosing k for kNN\n",
    "\n",
    "gs_knn = GridSearchCV(estimator=neighbors.KNeighborsClassifier(p=2, \n",
    "                           metric='minkowski'),\n",
    "                  param_grid=[{'n_neighbors': [1,3,5,7,9,11,13,15,17,19,21]}],\n",
    "                  scoring='accuracy',\n",
    "                  cv=inner_cv)\n",
    "#print(len(y))\n",
    "gs_knn = gs_knn.fit(X,y) \n",
    "print(\"\\n Parameter Tuning #6\")\n",
    "print(\"Non-nested CV Accuracy: \", gs_knn.best_score_)\n",
    "print(\"Optimal Parameter: \", gs_knn.best_params_)\n",
    "print(\"Optimal Estimator: \", gs_knn.best_estimator_)\n",
    "nested_score_gs_knn = cross_val_score(gs_knn, X=X, y=y, cv=outer_cv)\n",
    "print(\"Nested CV Accuracy: \",nested_score_gs_knn.mean(), \" +/- \", nested_score_gs_knn.std())\n",
    " \n",
    "# Choosing k for kNN AND type of distance\n",
    "gs_knn2 = GridSearchCV(estimator=neighbors.KNeighborsClassifier(p=2, \n",
    "                           metric='minkowski'),\n",
    "                  param_grid=[{'n_neighbors': [1,3,5,7,9,11,13,15,17,19,21],\n",
    "                               'weights':['uniform','distance']}],\n",
    "                  scoring='accuracy',\n",
    "                  cv=inner_cv,\n",
    "                  n_jobs=4)\n",
    "\n",
    "gs_knn2 = gs_knn2.fit(X,y)  \n",
    "print(\"\\n Parameter Tuning #7\")\n",
    "print(\"Non-nested CV Accuracy: \", gs_knn2.best_score_)\n",
    "print(\"Optimal Parameter: \", gs_knn2.best_params_)\n",
    "print(\"Optimal Estimator: \", gs_knn2.best_estimator_) # Estimator that was chosen by the search, i.e. estimator which gave highest score\n",
    "nested_score_gs_knn2 = cross_val_score(gs_knn2, X=X, y=y, cv=outer_cv)\n",
    "print(\"Nested CV Accuracy: \",nested_score_gs_knn2.mean(), \" +/- \", nested_score_gs_knn2.std())\n",
    " "
   ]
  },
  {
   "cell_type": "markdown",
   "metadata": {},
   "source": [
    "Using the preceding code, we initialized the GridSearchCV objected from the *sklearn.model_selection* module to train and tune various data mining algorithms (i.e., Decision Tree, Logistic Regression, kNN). We set the *param_grid* to a list of dictionaries to specify the parameters that we'd want to tune (e.g., k for KNN, C for logistic regression, max depth for decision tree, etc.). After we used the training data to perform the grid search, we obtained the score of the best-performing model via the *best_score_* attribute and lookd at tis paramaters, that can be accessed via the *best_params_* attribute. For instance, $k=5$ is the $k$ value that yields the best accuracy for kNN algorithm."
   ]
  },
  {
   "cell_type": "markdown",
   "metadata": {},
   "source": [
    "Finally, we use the independent test dataset to estimate the performance of the best selected model, which is available via the *best_estimator_* attribute of the *GridSearchCV* object."
   ]
  },
  {
   "cell_type": "markdown",
   "metadata": {},
   "source": [
    "# Plotting a ROC graph"
   ]
  },
  {
   "cell_type": "markdown",
   "metadata": {},
   "source": [
    "*ROC* graphs are useful tools for selecting models for classification based on their performance with respect to the false positive and true positive rates, which are computed by shifting the decision threshold of the classifier. The diagonal of the ROC graph can be interpreted as random guessing, and classification models that fall below the diagonal are considered as worse than random guessing. A perfect classifier would fall into the top-left corner of the graph with TP rate=1 and FP rate=0. Based on the ROC curve, we can then compute the AUC (i.e., Area Under the Curve) to characterize the performance of a classificaton model."
   ]
  },
  {
   "cell_type": "code",
   "execution_count": 27,
   "metadata": {},
   "outputs": [
    {
     "name": "stdout",
     "output_type": "stream",
     "text": [
      "10-fold cross validation:\n",
      "\n",
      "ROC AUC: 0.98 (+/- 0.01) [Logistic regression]\n",
      "ROC AUC: 0.87 (+/- 0.04) [Decision tree]\n",
      "ROC AUC: 0.96 (+/- 0.02) [kNN]\n"
     ]
    },
    {
     "data": {
      "image/png": "[encoded data removed]",
      "text/plain": [
       "<matplotlib.figure.Figure at 0x10eacbf10>"
      ]
     },
     "metadata": {
      "needs_background": "light"
     },
     "output_type": "display_data"
    }
   ],
   "source": [
    "############################### Import Libraries & Modules #################################\n",
    "\n",
    "import numpy as np\n",
    "from sklearn.linear_model import LogisticRegression\n",
    "from sklearn.tree import DecisionTreeClassifier\n",
    "from sklearn.neighbors import KNeighborsClassifier \n",
    "from sklearn.metrics import roc_curve\n",
    "from sklearn.metrics import auc\n",
    "\n",
    "######################################## Classifiers ########################################\n",
    "\n",
    "# Logistic Regression Classifier\n",
    "clf1 = LogisticRegression(penalty='l2', \n",
    "                          C=0.01,\n",
    "                          random_state=1)\n",
    "\n",
    "# Decision Tree Classifier\n",
    "clf2 = DecisionTreeClassifier(max_depth=1,\n",
    "                              criterion='entropy',\n",
    "                              random_state=0)\n",
    "\n",
    "# kNN Classifier\n",
    "clf3 = KNeighborsClassifier(n_neighbors=5,\n",
    "                            p=2,\n",
    "                            metric='minkowski')\n",
    "\n",
    "# Label the classifiers\n",
    "clf_labels = ['Logistic regression', 'Decision tree', 'kNN']\n",
    "all_clf = [clf1, clf2, clf3]\n",
    "\n",
    "#################################### Cross - Validation ####################################\n",
    "\n",
    "\n",
    "print('10-fold cross validation:\\n')\n",
    "# Note: We are assuming here that the data is standardized. For the homework, you need to make sure the data is standardized.\n",
    "for clf, label in zip([clf1, clf2, clf3], clf_labels): #For all classifiers \n",
    "    scores = cross_val_score(estimator=clf,  #Estimate AUC based on cross validation\n",
    "                             X=X,\n",
    "                             y=y,\n",
    "                             cv=10,\n",
    "                             scoring='roc_auc')\n",
    "    print(\"ROC AUC: %0.2f (+/- %0.2f) [%s]\" #Print peformance statistics based on cross-validation\n",
    "          % (scores.mean(), scores.std(), label))\n",
    "\n",
    "##################################### Visualization ######################################\n",
    "\n",
    "colors = [ 'orange', 'blue', 'green']      # Colors for visualization\n",
    "linestyles = [':', '--', '-.', '-']        # Line styles for visualization\n",
    "for clf, label, clr, ls in zip(all_clf,\n",
    "               clf_labels, colors, linestyles):\n",
    "\n",
    "    # Assuming the label of the positive class is 1 and data is normalized\n",
    "    y_pred = clf.fit(X_train,\n",
    "                     y_train).predict_proba(X_test)[:, 1] # Make predictions based on the classifiers\n",
    "    fpr, tpr, thresholds = roc_curve(y_true=y_test, # Build ROC curve\n",
    "                                     y_score=y_pred)\n",
    "    roc_auc = auc(x=fpr, y=tpr)                # Compute Area Under the Curve (AUC) \n",
    "    plt.plot(fpr, tpr,                         # Plot ROC Curve and create label with AUC values\n",
    "             color=clr,\n",
    "             linestyle=ls,\n",
    "             label='%s (auc = %0.2f)' % (label, roc_auc))\n",
    "\n",
    "plt.legend(loc='lower right')    # Where to place the legend\n",
    "plt.plot([0, 1], [0, 1], # Visualize random classifier\n",
    "         linestyle='--',\n",
    "         color='gray',\n",
    "         linewidth=2)\n",
    "\n",
    "plt.xlim([-0.1, 1.1])   #limits for x axis\n",
    "plt.ylim([-0.1, 1.1])   #limits for y axis\n",
    "plt.grid(alpha=0.5)\n",
    "plt.xlabel('False positive rate (FPR)')\n",
    "plt.ylabel('True positive rate (TPR)')\n",
    "\n",
    "\n",
    "#plt.savefig('ROC_all_classifiers', dpi=300)\n",
    "plt.show()"
   ]
  },
  {
   "cell_type": "markdown",
   "metadata": {},
   "source": [
    "## ROC graph with cross-validation (An additional example - Focusing on a single classifier)"
   ]
  },
  {
   "cell_type": "markdown",
   "metadata": {},
   "source": [
    "This example shows the ROC response of different datasets, created from K-fold cross-validation. Taking all of these curves, it is possible to calculate the mean area under curve, and see the variance of the curve when the training set is split into different subsets. This roughly shows how the classifier output is affected by changes in the training data, and how different the splits generated by K-fold cross-validation are from one another."
   ]
  },
  {
   "cell_type": "markdown",
   "metadata": {},
   "source": [
    "By executing the following code, we will plot an ROC curve of a classifier that only uses two features from the Breast Cancer Wisconsin dataset to predict whether a tumor is bening or malignant. By using just two features, we are making the classification task much more challenging so that the resulting ROC curve becomes visually more interesting. For similar reasons, we are also reducing the number of fols in the *StratifiedKFold* validator to three."
   ]
  },
  {
   "cell_type": "code",
   "execution_count": 28,
   "metadata": {},
   "outputs": [
    {
     "data": {
      "image/png": "[encoded data removed]",
      "text/plain": [
       "<matplotlib.figure.Figure at 0x11f85fe10>"
      ]
     },
     "metadata": {
      "needs_background": "light"
     },
     "output_type": "display_data"
    }
   ],
   "source": [
    "############################### Import Libraries & Modules #################################\n",
    "\n",
    "from sklearn.metrics import roc_curve, auc\n",
    "from scipy import interp\n",
    "from sklearn.model_selection import StratifiedKFold\n",
    "\n",
    "######################################## Classifier ########################################\n",
    "\n",
    "# Logistic Regression Classifier\n",
    "lr = LogisticRegression(penalty='l2',  random_state=1, \n",
    "                                           C=100)\n",
    "\n",
    "X_train2 = X_train[:, [4, 14]] # Classifier that only uses two features from the Breast Cancer Wisconsin dataset\n",
    "    \n",
    "#################################### Cross - Validation ####################################\n",
    "\n",
    "# This cross-validation object is a variation of KFold that returns stratified folds\n",
    "# The folds are made by preserving the percentage of samples for each class\n",
    "cv = list(StratifiedKFold(n_splits=2, # Number of folds. Must be at least 2\n",
    "                          random_state=1).split(X_train, y_train))\n",
    "\n",
    "##################################### Visualization ######################################\n",
    "\n",
    "fig = plt.figure(figsize=(7, 5)) # Set figure size\n",
    "\n",
    "mean_tpr = 0.0\n",
    "mean_fpr = np.linspace(0, 1, 100)\n",
    "all_tpr = []\n",
    "\n",
    "for i, (train, test) in enumerate(cv): # enumarate allows us to loop over something and have an automatic counter\n",
    "    probas = lr.fit(X_train2[train],\n",
    "                         y_train[train]).predict_proba(X_train2[test]) # make predictions based on classifiers\n",
    "\n",
    "    fpr, tpr, thresholds = roc_curve(y_train[test], # Get data for ROC curves\n",
    "                                     probas[:, 1],\n",
    "                                     pos_label=1)\n",
    "    mean_tpr += interp(mean_fpr, fpr, tpr)         # One-dimensional linear interpolation\n",
    "\n",
    "    mean_tpr[0] = 0.0\n",
    "    roc_auc = auc(fpr, tpr)\n",
    "    plt.plot(fpr,\n",
    "             tpr,\n",
    "             label='ROC fold %d (area = %0.2f)'\n",
    "                   % (i+1, roc_auc))\n",
    "\n",
    "plt.plot([0, 1], # plot random guessing classifier\n",
    "         [0, 1],\n",
    "         linestyle='--',\n",
    "         color=(0.6, 0.6, 0.6),\n",
    "         label='random guessing')\n",
    "\n",
    "mean_tpr /= len(cv)  # plot mearn ROC curve\n",
    "mean_tpr[-1] = 1.0\n",
    "mean_auc = auc(mean_fpr, mean_tpr)\n",
    "plt.plot(mean_fpr, mean_tpr, 'k--',\n",
    "         label='mean ROC (area = %0.2f)' % mean_auc, lw=2)\n",
    "\n",
    "plt.plot([0, 0, 1],  # plot perfect classifier\n",
    "         [0, 1, 1],\n",
    "         linestyle=':',\n",
    "         color='black',\n",
    "         label='perfect performance')\n",
    "\n",
    "# Figure paramaters: x axis limits, y axis limits, labels of axes, legend position\n",
    "plt.xlim([-0.05, 1.05])\n",
    "plt.ylim([-0.05, 1.05])\n",
    "plt.xlabel('false positive rate')\n",
    "plt.ylabel('true positive rate')\n",
    "plt.legend(loc=\"lower right\")\n",
    "\n",
    "plt.tight_layout()\n",
    "# plt.savefig('ROC_CrossValidation_Oneclassifier.png', dpi=300)\n",
    "plt.show() #display figure"
   ]
  },
  {
   "cell_type": "markdown",
   "metadata": {},
   "source": [
    "# Dealing with class imbalance"
   ]
  },
  {
   "cell_type": "code",
   "execution_count": 29,
   "metadata": {},
   "outputs": [
    {
     "data": {
      "text/plain": [
       "89.924433249370267"
      ]
     },
     "execution_count": 29,
     "metadata": {},
     "output_type": "execute_result"
    }
   ],
   "source": [
    "# We create an imbalanced data set from our breast cancer data set, which \n",
    "# originally consisted of 357 bening tumors (class 0) and 212 malignant tumors (class 1)\n",
    "\n",
    "# We take all 357 bening tumor samples and stacked them with the first 40 malignant \n",
    "# samples to create a severe class imbalance\n",
    "X_imb = np.vstack((X[y == 0], X[y == 1][:40]))\n",
    "y_imb = np.hstack((y[y == 0], y[y == 1][:40]))\n",
    "\n",
    "# If we were to predict the accuracy of the model that always predicts the majority class \n",
    "y_pred = np.zeros(y_imb.shape[0])\n",
    "np.mean(y_pred == y_imb) * 100\n",
    "\n",
    "# Estimated accuracy based on naive rule ~90%\n",
    "# It would make sense to focus on other metrics than accuracy when comparing different models\n",
    "# such as precision, recall, ROC curve"
   ]
  },
  {
   "cell_type": "code",
   "execution_count": 30,
   "metadata": {},
   "outputs": [
    {
     "name": "stdout",
     "output_type": "stream",
     "text": [
      "Number of class 1 samples before: 40\n",
      "Number of class 1 samples after: 357\n"
     ]
    }
   ],
   "source": [
    "# Class imbalance influences a learning algorithm during model fitting.\n",
    "# Since machine learning algorithms typically optimize a reward or cost function that is computed as a \n",
    "# sum over the training examples that it sees furing fitting, the decision rule is likely going to be\n",
    "# biased towards the majority class. In other words, the algorithm implicitly learns a mdoel tha optimizes the\n",
    "# predictions based on the most abundant class in order to minimize the cost or maximize the reward during training.\n",
    "\n",
    "from sklearn.utils import resample\n",
    "\n",
    "# Number of class 1 samples before\n",
    "print('Number of class 1 samples before:', X_imb[y_imb == 1].shape[0])\n",
    "\n",
    "# Resampling strategy = take the minority class from the imbalanced data set and repeatedly draw samples\n",
    "# from it until it contains the same number of samples as class label 0\n",
    "\n",
    "X_upsampled, y_upsampled = resample(X_imb[y_imb == 1], # Indexable data-structures as input\n",
    "                                    y_imb[y_imb == 1],\n",
    "                                    replace=True, # Implements resampling with replacement.\n",
    "                                    n_samples=X_imb[y_imb == 0].shape[0], # Number of samples to generate.\n",
    "                                    random_state=123) # The seed of the pseudo random number generator to use when shuffling the data\n",
    "\n",
    "# Number of class 1 samples after oversampling rare class\n",
    "print('Number of class 1 samples after:', X_upsampled.shape[0])"
   ]
  },
  {
   "cell_type": "code",
   "execution_count": 31,
   "metadata": {},
   "outputs": [
    {
     "data": {
      "text/plain": [
       "50.0"
      ]
     },
     "execution_count": 31,
     "metadata": {},
     "output_type": "execute_result"
    }
   ],
   "source": [
    "# After resampling, we can stack the original class 0 with the upsampled class 1 subset to obtain a balanced dataset\n",
    "# as follows:\n",
    "\n",
    "X_bal = np.vstack((X[y == 0], X_upsampled))\n",
    "y_bal = np.hstack((y[y == 0], y_upsampled))\n",
    "\n",
    "# Consequently if we were to predict the accuracy of the model that always predicts the majority class ~50%\n",
    "y_pred = np.zeros(y_bal.shape[0])\n",
    "np.mean(y_pred == y_bal) * 100"
   ]
  },
  {
   "cell_type": "code",
   "execution_count": null,
   "metadata": {},
   "outputs": [],
   "source": []
  }
 ],
 "metadata": {
  "kernelspec": {
   "display_name": "Python 2",
   "language": "python",
   "name": "python2"
  },
  "language_info": {
   "codemirror_mode": {
    "name": "ipython",
    "version": 2
   },
   "file_extension": ".py",
   "mimetype": "text/x-python",
   "name": "python",
   "nbconvert_exporter": "python",
   "pygments_lexer": "ipython2",
   "version": "2.7.16"
  }
 },
 "nbformat": 4,
 "nbformat_minor": 2
}
